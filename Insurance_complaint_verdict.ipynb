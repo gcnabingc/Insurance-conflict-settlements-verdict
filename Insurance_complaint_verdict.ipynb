{
 "cells": [
  {
   "cell_type": "markdown",
   "metadata": {},
   "source": [
    "## REad the data"
   ]
  },
  {
   "cell_type": "code",
   "execution_count": 1,
   "metadata": {},
   "outputs": [],
   "source": [
    "import pandas as pd\n",
    "from sodapy import Socrata\n",
    "import numpy as np"
   ]
  },
  {
   "cell_type": "code",
   "execution_count": 2,
   "metadata": {},
   "outputs": [
    {
     "name": "stderr",
     "output_type": "stream",
     "text": [
      "WARNING:root:Requests made without an app_token will be subject to strict throttling limits.\n"
     ]
    }
   ],
   "source": [
    "\n",
    "import pandas as pd\n",
    "from sodapy import Socrata\n",
    "\n",
    "client = Socrata(\"data.texas.gov\", None)\n",
    "\n",
    "results = client.get(\"ubdr-4uff\", limit=300000)\n",
    "\n",
    "# Convert to pandas DataFrame\n",
    "df1 = pd.DataFrame.from_records(results)"
   ]
  },
  {
   "cell_type": "code",
   "execution_count": 3,
   "metadata": {},
   "outputs": [],
   "source": [
    "df = df1"
   ]
  },
  {
   "cell_type": "code",
   "execution_count": 4,
   "metadata": {},
   "outputs": [
    {
     "name": "stdout",
     "output_type": "stream",
     "text": [
      "<class 'pandas.core.frame.DataFrame'>\n",
      "RangeIndex: 259342 entries, 0 to 259341\n",
      "Data columns (total 17 columns):\n",
      " #   Column                    Non-Null Count   Dtype \n",
      "---  ------                    --------------   ----- \n",
      " 0   complaint_number          259342 non-null  object\n",
      " 1   respondent_name           259342 non-null  object\n",
      " 2   complainant_role          259342 non-null  object\n",
      " 3   reason                    259336 non-null  object\n",
      " 4   complaint_confirmed_code  259338 non-null  object\n",
      " 5   disposition               258304 non-null  object\n",
      " 6   received_date             259342 non-null  object\n",
      " 7   closed_date               259342 non-null  object\n",
      " 8   complaint_type            259341 non-null  object\n",
      " 9   coverage_type             259342 non-null  object\n",
      " 10  coverage_level            259342 non-null  object\n",
      " 11  respondent_id             259342 non-null  object\n",
      " 12  respondent_role           259340 non-null  object\n",
      " 13  respondent_type           259342 non-null  object\n",
      " 14  complainant_type          259342 non-null  object\n",
      " 15  involved_party_type       230979 non-null  object\n",
      " 16  keyword                   206213 non-null  object\n",
      "dtypes: object(17)\n",
      "memory usage: 33.6+ MB\n"
     ]
    }
   ],
   "source": [
    "df.info()"
   ]
  },
  {
   "cell_type": "code",
   "execution_count": 5,
   "metadata": {},
   "outputs": [],
   "source": [
    "# Drop missing rows in disposition coluMN\n",
    "df = df.dropna(subset=['disposition'])"
   ]
  },
  {
   "cell_type": "code",
   "execution_count": 6,
   "metadata": {},
   "outputs": [
    {
     "name": "stdout",
     "output_type": "stream",
     "text": [
      "disposition\n",
      "Contract Language/Legal Issue                                                    25698\n",
      "No Jurisdiction                                                                  23533\n",
      "Information Furnished                                                            17924\n",
      "Question of Fact                                                                 12215\n",
      "Information Furnished; Contract Language/Legal Issue                              8095\n",
      "                                                                                 ...  \n",
      "Claim Settled; Corrective Action Taken; Insufficient Information                     1\n",
      "Question of Fact; Policy Issued/Restored; Information Furnished                      1\n",
      "Rate Problem Resolved; Corrective Action Taken; Contract Language/Legal Issue        1\n",
      "Agent Resp Recvd; Failure to Timely Respond; Corrective Action Taken                 1\n",
      "Claim Settled; Company Position Upheld; Additional Monies Received                   1\n",
      "Name: count, Length: 4043, dtype: int64\n"
     ]
    }
   ],
   "source": [
    "\n",
    "# get counts of disposition values in descending order\n",
    "disposition_counts = df['disposition'].value_counts().sort_values(ascending=False)\n",
    "print(disposition_counts)\n",
    "\n",
    "# write disposition counts to a csv file\n",
    "disposition_counts.to_csv('disposition_counts.csv')"
   ]
  },
  {
   "cell_type": "markdown",
   "metadata": {},
   "source": [
    "### Disposition column"
   ]
  },
  {
   "cell_type": "code",
   "execution_count": 7,
   "metadata": {},
   "outputs": [
    {
     "name": "stderr",
     "output_type": "stream",
     "text": [
      "C:\\Users\\nbngc\\AppData\\Local\\Temp\\ipykernel_68392\\3181898158.py:15: SettingWithCopyWarning: \n",
      "A value is trying to be set on a copy of a slice from a DataFrame.\n",
      "Try using .loc[row_indexer,col_indexer] = value instead\n",
      "\n",
      "See the caveats in the documentation: https://pandas.pydata.org/pandas-docs/stable/user_guide/indexing.html#returning-a-view-versus-a-copy\n",
      "  df['verdict_passed'] = df['disposition'].apply(categorize_verdict)\n"
     ]
    }
   ],
   "source": [
    "\n",
    "\n",
    "# Define keywords for categorizing dispositions as 'verdict won' or 'verdict not won'\n",
    "verdict_won_keywords = [\"Claim Settled\", \"Additional Monies Received\"]\n",
    "verdict_not_won_keywords = [\"No Jurisdiction\", \"Company Position Upheld\", \"Insufficient Information\", \"Contract Language/Legal Issue\", \"Question of Fact\"]\n",
    "\n",
    "# Function to categorize each disposition based on the presence of keywords\n",
    "def categorize_verdict(disposition):\n",
    "    if any(keyword in disposition for keyword in verdict_won_keywords):\n",
    "        return \"Yes\"\n",
    "    elif any(keyword in disposition for keyword in verdict_not_won_keywords):\n",
    "        return \"No\"\n",
    "    else:\n",
    "        return \"Uncategorized\"  # For entries that don't match any keywords\n",
    "\n",
    "# Apply categorization to the disposition data\n",
    "df['verdict_passed'] = df['disposition'].apply(categorize_verdict)\n",
    "\n",
    "# Drop rows where the disposition was categorized as \"Uncategorized\"\n",
    "df = df[df['verdict_passed'] != \"Uncategorized\"]\n",
    "\n",
    "# replace disposition column with verdict_passed column and drop verdict_passed\n",
    "df['disposition'] = df['verdict_passed']\n",
    "df = df.drop(columns=['verdict_passed'])\n",
    "\n",
    "# Save the modified data back to a CSV file if needed\n",
    "df.to_csv('categorized_df.csv', index=False)"
   ]
  },
  {
   "cell_type": "code",
   "execution_count": 8,
   "metadata": {},
   "outputs": [
    {
     "name": "stdout",
     "output_type": "stream",
     "text": [
      "<class 'pandas.core.frame.DataFrame'>\n",
      "Index: 206708 entries, 4 to 259341\n",
      "Data columns (total 17 columns):\n",
      " #   Column                    Non-Null Count   Dtype \n",
      "---  ------                    --------------   ----- \n",
      " 0   complaint_number          206708 non-null  object\n",
      " 1   respondent_name           206708 non-null  object\n",
      " 2   complainant_role          206708 non-null  object\n",
      " 3   reason                    206707 non-null  object\n",
      " 4   complaint_confirmed_code  206704 non-null  object\n",
      " 5   disposition               206708 non-null  object\n",
      " 6   received_date             206708 non-null  object\n",
      " 7   closed_date               206708 non-null  object\n",
      " 8   complaint_type            206707 non-null  object\n",
      " 9   coverage_type             206708 non-null  object\n",
      " 10  coverage_level            206708 non-null  object\n",
      " 11  respondent_id             206708 non-null  object\n",
      " 12  respondent_role           206708 non-null  object\n",
      " 13  respondent_type           206708 non-null  object\n",
      " 14  complainant_type          206708 non-null  object\n",
      " 15  involved_party_type       186269 non-null  object\n",
      " 16  keyword                   170087 non-null  object\n",
      "dtypes: object(17)\n",
      "memory usage: 28.4+ MB\n",
      "None\n"
     ]
    }
   ],
   "source": [
    "print(df.info())"
   ]
  },
  {
   "cell_type": "markdown",
   "metadata": {},
   "source": [
    "# Drop unnecessary columns"
   ]
  },
  {
   "cell_type": "code",
   "execution_count": 9,
   "metadata": {},
   "outputs": [],
   "source": [
    "# drop the columns\n",
    "# count of individual in column respondant type\n",
    "df['respondent_type'].value_counts()\n",
    "\n",
    "# drop columns keyword, respondent_id,complaint_number\n",
    "df = df.drop(columns=['keyword','respondent_id','complaint_number'])\n",
    " "
   ]
  },
  {
   "cell_type": "code",
   "execution_count": 10,
   "metadata": {},
   "outputs": [
    {
     "name": "stdout",
     "output_type": "stream",
     "text": [
      "<class 'pandas.core.frame.DataFrame'>\n",
      "Index: 206708 entries, 4 to 259341\n",
      "Data columns (total 14 columns):\n",
      " #   Column                    Non-Null Count   Dtype \n",
      "---  ------                    --------------   ----- \n",
      " 0   respondent_name           206708 non-null  object\n",
      " 1   complainant_role          206708 non-null  object\n",
      " 2   reason                    206707 non-null  object\n",
      " 3   complaint_confirmed_code  206704 non-null  object\n",
      " 4   disposition               206708 non-null  object\n",
      " 5   received_date             206708 non-null  object\n",
      " 6   closed_date               206708 non-null  object\n",
      " 7   complaint_type            206707 non-null  object\n",
      " 8   coverage_type             206708 non-null  object\n",
      " 9   coverage_level            206708 non-null  object\n",
      " 10  respondent_role           206708 non-null  object\n",
      " 11  respondent_type           206708 non-null  object\n",
      " 12  complainant_type          206708 non-null  object\n",
      " 13  involved_party_type       186269 non-null  object\n",
      "dtypes: object(14)\n",
      "memory usage: 23.7+ MB\n"
     ]
    }
   ],
   "source": [
    "df.info()"
   ]
  },
  {
   "cell_type": "code",
   "execution_count": 11,
   "metadata": {},
   "outputs": [],
   "source": [
    "# Trim whitespace from all columns with string data\n",
    "df = df.apply(lambda x: x.str.strip() if x.dtype == \"object\" else x)"
   ]
  },
  {
   "cell_type": "code",
   "execution_count": 12,
   "metadata": {},
   "outputs": [],
   "source": [
    "# Convert all columns to propercase if they are strings\n",
    "df = df.apply(lambda x: x.str.title() if x.dtype == \"object\" else x)"
   ]
  },
  {
   "cell_type": "code",
   "execution_count": 13,
   "metadata": {},
   "outputs": [
    {
     "data": {
      "text/html": [
       "<div>\n",
       "<style scoped>\n",
       "    .dataframe tbody tr th:only-of-type {\n",
       "        vertical-align: middle;\n",
       "    }\n",
       "\n",
       "    .dataframe tbody tr th {\n",
       "        vertical-align: top;\n",
       "    }\n",
       "\n",
       "    .dataframe thead th {\n",
       "        text-align: right;\n",
       "    }\n",
       "</style>\n",
       "<table border=\"1\" class=\"dataframe\">\n",
       "  <thead>\n",
       "    <tr style=\"text-align: right;\">\n",
       "      <th></th>\n",
       "      <th>respondent_name</th>\n",
       "      <th>complainant_role</th>\n",
       "      <th>reason</th>\n",
       "      <th>complaint_confirmed_code</th>\n",
       "      <th>disposition</th>\n",
       "      <th>received_date</th>\n",
       "      <th>closed_date</th>\n",
       "      <th>complaint_type</th>\n",
       "      <th>coverage_type</th>\n",
       "      <th>coverage_level</th>\n",
       "      <th>respondent_role</th>\n",
       "      <th>respondent_type</th>\n",
       "      <th>complainant_type</th>\n",
       "      <th>involved_party_type</th>\n",
       "    </tr>\n",
       "  </thead>\n",
       "  <tbody>\n",
       "    <tr>\n",
       "      <th>4</th>\n",
       "      <td>Charter Oak Fire Insurance Company, The</td>\n",
       "      <td>Insured</td>\n",
       "      <td>Unsatisfactory Settle/Offer</td>\n",
       "      <td>No</td>\n",
       "      <td>No</td>\n",
       "      <td>2012-06-13T00:00:00.000</td>\n",
       "      <td>2012-07-17T00:00:00.000</td>\n",
       "      <td>Property And Casualty</td>\n",
       "      <td>Automobile</td>\n",
       "      <td>Individual Private Pass</td>\n",
       "      <td>Ins Co - Licensed/Active</td>\n",
       "      <td>Organization</td>\n",
       "      <td>Indv</td>\n",
       "      <td>NaN</td>\n",
       "    </tr>\n",
       "    <tr>\n",
       "      <th>5</th>\n",
       "      <td>Reassure America Life Insurance Company</td>\n",
       "      <td>Insured</td>\n",
       "      <td>Cash Value; Misrepresentation</td>\n",
       "      <td>No</td>\n",
       "      <td>No</td>\n",
       "      <td>2012-06-18T00:00:00.000</td>\n",
       "      <td>2012-07-30T00:00:00.000</td>\n",
       "      <td>Life, Accident And Health</td>\n",
       "      <td>Life &amp; Annuity</td>\n",
       "      <td>Individual Life</td>\n",
       "      <td>Ins Co - Licensed/Active</td>\n",
       "      <td>Organization</td>\n",
       "      <td>Indv</td>\n",
       "      <td>NaN</td>\n",
       "    </tr>\n",
       "    <tr>\n",
       "      <th>6</th>\n",
       "      <td>Usaa General Indemnity Company</td>\n",
       "      <td>Third Party</td>\n",
       "      <td>Unsatisfactory Settle/Offer</td>\n",
       "      <td>No</td>\n",
       "      <td>Yes</td>\n",
       "      <td>2012-02-27T00:00:00.000</td>\n",
       "      <td>2012-07-02T00:00:00.000</td>\n",
       "      <td>Property And Casualty</td>\n",
       "      <td>Automobile</td>\n",
       "      <td>Individual Private Pass</td>\n",
       "      <td>Ins Co - Licensed/Active</td>\n",
       "      <td>Organization</td>\n",
       "      <td>Indv</td>\n",
       "      <td>Insured</td>\n",
       "    </tr>\n",
       "    <tr>\n",
       "      <th>7</th>\n",
       "      <td>Blue Cross And Blue Shield Of Texas, A Divisio...</td>\n",
       "      <td>Insured</td>\n",
       "      <td>Denial Of Claim</td>\n",
       "      <td>No</td>\n",
       "      <td>No</td>\n",
       "      <td>2012-06-19T00:00:00.000</td>\n",
       "      <td>2012-08-06T00:00:00.000</td>\n",
       "      <td>Life, Accident And Health</td>\n",
       "      <td>Accident And Health</td>\n",
       "      <td>Group A&amp;H</td>\n",
       "      <td>Ins Co - Licensed/Active</td>\n",
       "      <td>Organization</td>\n",
       "      <td>Indv</td>\n",
       "      <td>NaN</td>\n",
       "    </tr>\n",
       "    <tr>\n",
       "      <th>8</th>\n",
       "      <td>Property And Casualty Insurance Company Of Har...</td>\n",
       "      <td>Insured</td>\n",
       "      <td>Unsatisfactory Settle/Offer</td>\n",
       "      <td>No</td>\n",
       "      <td>No</td>\n",
       "      <td>2011-10-03T00:00:00.000</td>\n",
       "      <td>2012-07-20T00:00:00.000</td>\n",
       "      <td>Property And Casualty</td>\n",
       "      <td>Homeowners</td>\n",
       "      <td>Homeowners</td>\n",
       "      <td>Ins Co - Licensed/Active</td>\n",
       "      <td>Organization</td>\n",
       "      <td>Indv</td>\n",
       "      <td>NaN</td>\n",
       "    </tr>\n",
       "  </tbody>\n",
       "</table>\n",
       "</div>"
      ],
      "text/plain": [
       "                                     respondent_name complainant_role  \\\n",
       "4            Charter Oak Fire Insurance Company, The          Insured   \n",
       "5            Reassure America Life Insurance Company          Insured   \n",
       "6                     Usaa General Indemnity Company      Third Party   \n",
       "7  Blue Cross And Blue Shield Of Texas, A Divisio...          Insured   \n",
       "8  Property And Casualty Insurance Company Of Har...          Insured   \n",
       "\n",
       "                          reason complaint_confirmed_code disposition  \\\n",
       "4    Unsatisfactory Settle/Offer                       No          No   \n",
       "5  Cash Value; Misrepresentation                       No          No   \n",
       "6    Unsatisfactory Settle/Offer                       No         Yes   \n",
       "7                Denial Of Claim                       No          No   \n",
       "8    Unsatisfactory Settle/Offer                       No          No   \n",
       "\n",
       "             received_date              closed_date  \\\n",
       "4  2012-06-13T00:00:00.000  2012-07-17T00:00:00.000   \n",
       "5  2012-06-18T00:00:00.000  2012-07-30T00:00:00.000   \n",
       "6  2012-02-27T00:00:00.000  2012-07-02T00:00:00.000   \n",
       "7  2012-06-19T00:00:00.000  2012-08-06T00:00:00.000   \n",
       "8  2011-10-03T00:00:00.000  2012-07-20T00:00:00.000   \n",
       "\n",
       "              complaint_type        coverage_type           coverage_level  \\\n",
       "4      Property And Casualty           Automobile  Individual Private Pass   \n",
       "5  Life, Accident And Health       Life & Annuity          Individual Life   \n",
       "6      Property And Casualty           Automobile  Individual Private Pass   \n",
       "7  Life, Accident And Health  Accident And Health                Group A&H   \n",
       "8      Property And Casualty           Homeowners               Homeowners   \n",
       "\n",
       "            respondent_role respondent_type complainant_type  \\\n",
       "4  Ins Co - Licensed/Active    Organization             Indv   \n",
       "5  Ins Co - Licensed/Active    Organization             Indv   \n",
       "6  Ins Co - Licensed/Active    Organization             Indv   \n",
       "7  Ins Co - Licensed/Active    Organization             Indv   \n",
       "8  Ins Co - Licensed/Active    Organization             Indv   \n",
       "\n",
       "  involved_party_type  \n",
       "4                 NaN  \n",
       "5                 NaN  \n",
       "6             Insured  \n",
       "7                 NaN  \n",
       "8                 NaN  "
      ]
     },
     "execution_count": 13,
     "metadata": {},
     "output_type": "execute_result"
    }
   ],
   "source": [
    "df.head()"
   ]
  },
  {
   "cell_type": "code",
   "execution_count": 14,
   "metadata": {},
   "outputs": [],
   "source": [
    "#list unique values in involved party type\n",
    "import csv\n",
    "df['involved_party_type'].unique()\n",
    "# write unique values to a separate csv file\n",
    "with open('involved_party_type.csv', 'w', newline='') as file:\n",
    "    writer = csv.writer(file)\n",
    "    for item in df['involved_party_type'].unique():\n",
    "        writer.writerow([item])\n"
   ]
  },
  {
   "cell_type": "code",
   "execution_count": 15,
   "metadata": {},
   "outputs": [
    {
     "name": "stdout",
     "output_type": "stream",
     "text": [
      "<class 'pandas.core.frame.DataFrame'>\n",
      "Index: 206708 entries, 4 to 259341\n",
      "Data columns (total 14 columns):\n",
      " #   Column                    Non-Null Count   Dtype \n",
      "---  ------                    --------------   ----- \n",
      " 0   respondent_name           206708 non-null  object\n",
      " 1   complainant_role          206708 non-null  object\n",
      " 2   reason                    206707 non-null  object\n",
      " 3   complaint_confirmed_code  206704 non-null  object\n",
      " 4   disposition               206708 non-null  object\n",
      " 5   received_date             206708 non-null  object\n",
      " 6   closed_date               206708 non-null  object\n",
      " 7   complaint_type            206707 non-null  object\n",
      " 8   coverage_type             206708 non-null  object\n",
      " 9   coverage_level            206708 non-null  object\n",
      " 10  respondent_role           206708 non-null  object\n",
      " 11  respondent_type           206708 non-null  object\n",
      " 12  complainant_type          206708 non-null  object\n",
      " 13  involved_party_type       186269 non-null  object\n",
      "dtypes: object(14)\n",
      "memory usage: 23.7+ MB\n"
     ]
    }
   ],
   "source": [
    "df.info()"
   ]
  },
  {
   "cell_type": "code",
   "execution_count": 16,
   "metadata": {},
   "outputs": [],
   "source": [
    "df.to_csv('categorized_df.csv', index=False)"
   ]
  },
  {
   "cell_type": "markdown",
   "metadata": {},
   "source": [
    "# respondant name"
   ]
  },
  {
   "cell_type": "code",
   "execution_count": 17,
   "metadata": {},
   "outputs": [],
   "source": [
    "# Remove the text \", The\" from respondent_name column if ends in \", The\"\n",
    "df['respondent_name'] = df['respondent_name'].str.rstrip(', The')\n",
    "# Perform target encoding on respondent_name column\n",
    "from sklearn.preprocessing import LabelEncoder\n",
    "# Initialize the LabelEncoder\n",
    "le = LabelEncoder()\n",
    "# Fit and transform the respondent_name column\n",
    "df['respondent_name_encoded'] = le.fit_transform(df['respondent_name'])\n"
   ]
  }
 ],
 "metadata": {
  "kernelspec": {
   "display_name": "ads",
   "language": "python",
   "name": "python3"
  },
  "language_info": {
   "codemirror_mode": {
    "name": "ipython",
    "version": 3
   },
   "file_extension": ".py",
   "mimetype": "text/x-python",
   "name": "python",
   "nbconvert_exporter": "python",
   "pygments_lexer": "ipython3",
   "version": "3.12.5"
  }
 },
 "nbformat": 4,
 "nbformat_minor": 2
}
