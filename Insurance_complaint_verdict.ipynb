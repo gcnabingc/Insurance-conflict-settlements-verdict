{
 "cells": [
  {
   "cell_type": "markdown",
   "metadata": {},
   "source": [
    "## Pull in the data"
   ]
  },
  {
   "cell_type": "code",
   "execution_count": 4,
   "metadata": {},
   "outputs": [
    {
     "name": "stdout",
     "output_type": "stream",
     "text": [
      "Collecting sodapy\n",
      "  Downloading sodapy-2.2.0-py2.py3-none-any.whl.metadata (15 kB)\n",
      "Requirement already satisfied: requests>=2.28.1 in c:\\users\\nbngc\\.virtualenvs\\ads\\lib\\site-packages (from sodapy) (2.32.3)\n",
      "Requirement already satisfied: charset-normalizer<4,>=2 in c:\\users\\nbngc\\.virtualenvs\\ads\\lib\\site-packages (from requests>=2.28.1->sodapy) (3.3.2)\n",
      "Requirement already satisfied: idna<4,>=2.5 in c:\\users\\nbngc\\.virtualenvs\\ads\\lib\\site-packages (from requests>=2.28.1->sodapy) (3.8)\n",
      "Requirement already satisfied: urllib3<3,>=1.21.1 in c:\\users\\nbngc\\.virtualenvs\\ads\\lib\\site-packages (from requests>=2.28.1->sodapy) (2.2.2)\n",
      "Requirement already satisfied: certifi>=2017.4.17 in c:\\users\\nbngc\\.virtualenvs\\ads\\lib\\site-packages (from requests>=2.28.1->sodapy) (2024.8.30)\n",
      "Downloading sodapy-2.2.0-py2.py3-none-any.whl (15 kB)\n",
      "Installing collected packages: sodapy\n",
      "Successfully installed sodapy-2.2.0\n"
     ]
    }
   ],
   "source": [
    "# make sure to install these packages before running:\n",
    "!pip install sodapy"
   ]
  },
  {
   "cell_type": "code",
   "execution_count": 3,
   "metadata": {},
   "outputs": [
    {
     "name": "stderr",
     "output_type": "stream",
     "text": [
      "WARNING:root:Requests made without an app_token will be subject to strict throttling limits.\n"
     ]
    },
    {
     "name": "stdout",
     "output_type": "stream",
     "text": [
      "  complaint_number                                    respondent_name  \\\n",
      "0                1                METROPOLITAN LIFE INSURANCE COMPANY   \n",
      "1                2                       AETNA LIFE INSURANCE COMPANY   \n",
      "2                3  BLUE CROSS AND BLUE SHIELD OF TEXAS, A DIVISIO...   \n",
      "3                4  BLUE CROSS AND BLUE SHIELD OF TEXAS, A DIVISIO...   \n",
      "4                5            CHARTER OAK FIRE INSURANCE COMPANY, THE   \n",
      "\n",
      "  complainant_role                       reason complaint_confirmed_code  \\\n",
      "0         Relative  Cust Service Claim Handling                       No   \n",
      "1         Provider     Delays (Claims Handling)                       No   \n",
      "2         Provider              Denial Of Claim                       No   \n",
      "3         Provider              Denial Of Claim                       No   \n",
      "4          Insured  Unsatisfactory Settle/Offer                       No   \n",
      "\n",
      "                                       disposition            received_date  \\\n",
      "0                                            Other  2012-06-12T00:00:00.000   \n",
      "1                            Information Furnished  2012-06-21T00:00:00.000   \n",
      "2                                            Other  2012-06-11T00:00:00.000   \n",
      "3                                            Other  2012-06-28T00:00:00.000   \n",
      "4  Question of Fact; Contract Language/Legal Issue  2012-06-13T00:00:00.000   \n",
      "\n",
      "               closed_date             complaint_type        coverage_type  \\\n",
      "0  2012-07-25T00:00:00.000  Life, Accident and Health       Life & Annuity   \n",
      "1  2012-08-01T00:00:00.000  Life, Accident and Health  Accident and Health   \n",
      "2  2012-07-30T00:00:00.000  Life, Accident and Health  Accident and Health   \n",
      "3  2012-07-30T00:00:00.000  Life, Accident and Health  Accident and Health   \n",
      "4  2012-07-17T00:00:00.000      Property and Casualty           Automobile   \n",
      "\n",
      "            coverage_level respondent_id           respondent_role  \\\n",
      "0          Individual Life         13191  Ins Co - Licensed/Active   \n",
      "1                Group A&H           245  Ins Co - Licensed/Active   \n",
      "2                Group A&H         10047  Ins Co - Licensed/Active   \n",
      "3                Group A&H         10047  Ins Co - Licensed/Active   \n",
      "4  Individual Private Pass          2918  Ins Co - Licensed/Active   \n",
      "\n",
      "  respondent_type complainant_type involved_party_type  \\\n",
      "0    Organization             INDV                 NaN   \n",
      "1    Organization              ORG             Insured   \n",
      "2    Organization              ORG                 NaN   \n",
      "3    Organization              ORG                 NaN   \n",
      "4    Organization             INDV                 NaN   \n",
      "\n",
      "                                             keyword  \n",
      "0                                                NaN  \n",
      "1                                                NaN  \n",
      "2                                                NaN  \n",
      "3                                                NaN  \n",
      "4  2012 NORTH TEXAS TORNADOES; ADJUSTER'S HANDLIN...  \n"
     ]
    }
   ],
   "source": [
    "import pandas as pd\n",
    "from sodapy import Socrata\n",
    "\n",
    "# Unauthenticated client only works with public data sets. Note 'None'\n",
    "# in place of application token, and no username or password:\n",
    "client = Socrata(\"data.texas.gov\", None)\n",
    "\n",
    "# Example authenticated client (needed for non-public datasets):\n",
    "# client = Socrata(data.texas.gov,\n",
    "#                  MyAppToken,\n",
    "#                  username=\"user@example.com\",\n",
    "#                  password=\"AFakePassword\")\n",
    "\n",
    "# First 2000 results, returned as JSON from API / converted to Python list of\n",
    "# dictionaries by sodapy.\n",
    "results = client.get(\"ubdr-4uff\", limit=300000)\n",
    "\n",
    "# Convert to pandas DataFrame\n",
    "results_df = pd.DataFrame.from_records(results)\n",
    "print(results_df.head())"
   ]
  },
  {
   "cell_type": "code",
   "execution_count": 5,
   "metadata": {},
   "outputs": [
    {
     "name": "stdout",
     "output_type": "stream",
     "text": [
      "<class 'pandas.core.frame.DataFrame'>\n",
      "RangeIndex: 258228 entries, 0 to 258227\n",
      "Data columns (total 17 columns):\n",
      " #   Column                    Non-Null Count   Dtype \n",
      "---  ------                    --------------   ----- \n",
      " 0   complaint_number          258228 non-null  object\n",
      " 1   respondent_name           258228 non-null  object\n",
      " 2   complainant_role          258228 non-null  object\n",
      " 3   reason                    258222 non-null  object\n",
      " 4   complaint_confirmed_code  258223 non-null  object\n",
      " 5   disposition               257191 non-null  object\n",
      " 6   received_date             258228 non-null  object\n",
      " 7   closed_date               258228 non-null  object\n",
      " 8   complaint_type            258227 non-null  object\n",
      " 9   coverage_type             258228 non-null  object\n",
      " 10  coverage_level            258228 non-null  object\n",
      " 11  respondent_id             258228 non-null  object\n",
      " 12  respondent_role           258226 non-null  object\n",
      " 13  respondent_type           258228 non-null  object\n",
      " 14  complainant_type          258228 non-null  object\n",
      " 15  involved_party_type       229881 non-null  object\n",
      " 16  keyword                   205438 non-null  object\n",
      "dtypes: object(17)\n",
      "memory usage: 33.5+ MB\n"
     ]
    }
   ],
   "source": [
    "results_df.info()"
   ]
  },
  {
   "cell_type": "code",
   "execution_count": 12,
   "metadata": {},
   "outputs": [],
   "source": [
    "df = pd.read_csv('Insurance_complaints__All_data_20241020.csv')"
   ]
  },
  {
   "cell_type": "code",
   "execution_count": 13,
   "metadata": {},
   "outputs": [
    {
     "name": "stdout",
     "output_type": "stream",
     "text": [
      "   Complaint number                            Complaint filed against  \\\n",
      "0                 1                METROPOLITAN LIFE INSURANCE COMPANY   \n",
      "1                 2                       AETNA LIFE INSURANCE COMPANY   \n",
      "2                 3  BLUE CROSS AND BLUE SHIELD OF TEXAS, A DIVISIO...   \n",
      "3                 4  BLUE CROSS AND BLUE SHIELD OF TEXAS, A DIVISIO...   \n",
      "4                 5            CHARTER OAK FIRE INSURANCE COMPANY, THE   \n",
      "\n",
      "  Complaint filed by       Reason complaint filed Confirmed complaint  \\\n",
      "0           Relative  Cust Service Claim Handling                  No   \n",
      "1           Provider     Delays (Claims Handling)                  No   \n",
      "2           Provider              Denial Of Claim                  No   \n",
      "3           Provider              Denial Of Claim                  No   \n",
      "4            Insured  Unsatisfactory Settle/Offer                  No   \n",
      "\n",
      "                                      How resolved Received date Closed date  \\\n",
      "0                                            Other    06/12/2012  07/25/2012   \n",
      "1                            Information Furnished    06/21/2012  08/01/2012   \n",
      "2                                            Other    06/11/2012  07/30/2012   \n",
      "3                                            Other    06/28/2012  07/30/2012   \n",
      "4  Question of Fact; Contract Language/Legal Issue    06/13/2012  07/17/2012   \n",
      "\n",
      "              Complaint type        Coverage type           Coverage level  \\\n",
      "0  Life, Accident and Health       Life & Annuity          Individual Life   \n",
      "1  Life, Accident and Health  Accident and Health                Group A&H   \n",
      "2  Life, Accident and Health  Accident and Health                Group A&H   \n",
      "3  Life, Accident and Health  Accident and Health                Group A&H   \n",
      "4      Property and Casualty           Automobile  Individual Private Pass   \n",
      "\n",
      "  Others involved  Respondent ID           Respondent Role Respondent type  \\\n",
      "0             NaN          13191  Ins Co - Licensed/Active    Organization   \n",
      "1         Insured            245  Ins Co - Licensed/Active    Organization   \n",
      "2             NaN          10047  Ins Co - Licensed/Active    Organization   \n",
      "3             NaN          10047  Ins Co - Licensed/Active    Organization   \n",
      "4             NaN           2918  Ins Co - Licensed/Active    Organization   \n",
      "\n",
      "  Complainant type                                           Keywords  \n",
      "0             INDV                                                NaN  \n",
      "1              ORG                                                NaN  \n",
      "2              ORG                                                NaN  \n",
      "3              ORG                                                NaN  \n",
      "4             INDV  2012 NORTH TEXAS TORNADOES; ADJUSTER'S HANDLIN...  \n"
     ]
    }
   ],
   "source": [
    "df.info()"
   ]
  },
  {
   "cell_type": "code",
   "execution_count": 15,
   "metadata": {},
   "outputs": [
    {
     "data": {
      "text/plain": [
       "How resolved\n",
       "Contract Language/Legal Issue                                                 25697\n",
       "No Jurisdiction                                                               23532\n",
       "Information Furnished                                                         17884\n",
       "Question of Fact                                                              12207\n",
       "Information Furnished; Contract Language/Legal Issue                           8035\n",
       "                                                                              ...  \n",
       "Policy Issued/Restored; Corrective Action Taken; Cancellation Withdrawn           1\n",
       "Agent Resp Recvd; Contract Language/Legal Issue; Failure to Timely Respond        1\n",
       "Corrective Action Taken; Company Position Upheld; Claim Settled                   1\n",
       "Information Furnished; Premium Refunded; Failure to Timely Respond                1\n",
       "Agent Resp Recvd; Agent 2nd warning; Information Furnished                        1\n",
       "Name: count, Length: 4064, dtype: int64"
      ]
     },
     "execution_count": 15,
     "metadata": {},
     "output_type": "execute_result"
    }
   ],
   "source": [
    "df['How resolved'].value_counts()"
   ]
  },
  {
   "cell_type": "code",
   "execution_count": 20,
   "metadata": {},
   "outputs": [
    {
     "name": "stdout",
     "output_type": "stream",
     "text": [
      "   Complaint number                            Complaint filed against  \\\n",
      "0                 1                METROPOLITAN LIFE INSURANCE COMPANY   \n",
      "1                 2                       AETNA LIFE INSURANCE COMPANY   \n",
      "2                 3  BLUE CROSS AND BLUE SHIELD OF TEXAS, A DIVISIO...   \n",
      "3                 4  BLUE CROSS AND BLUE SHIELD OF TEXAS, A DIVISIO...   \n",
      "4                 5            CHARTER OAK FIRE INSURANCE COMPANY, THE   \n",
      "\n",
      "  Complaint filed by       Reason complaint filed Confirmed complaint  \\\n",
      "0           Relative  Cust Service Claim Handling                  No   \n",
      "1           Provider     Delays (Claims Handling)                  No   \n",
      "2           Provider              Denial Of Claim                  No   \n",
      "3           Provider              Denial Of Claim                  No   \n",
      "4            Insured  Unsatisfactory Settle/Offer                  No   \n",
      "\n",
      "  Received date Closed date             Complaint type        Coverage type  \\\n",
      "0    06/12/2012  07/25/2012  Life, Accident and Health       Life & Annuity   \n",
      "1    06/21/2012  08/01/2012  Life, Accident and Health  Accident and Health   \n",
      "2    06/11/2012  07/30/2012  Life, Accident and Health  Accident and Health   \n",
      "3    06/28/2012  07/30/2012  Life, Accident and Health  Accident and Health   \n",
      "4    06/13/2012  07/17/2012      Property and Casualty           Automobile   \n",
      "\n",
      "            Coverage level Others involved  Respondent ID  \\\n",
      "0          Individual Life             NaN          13191   \n",
      "1                Group A&H         Insured            245   \n",
      "2                Group A&H             NaN          10047   \n",
      "3                Group A&H             NaN          10047   \n",
      "4  Individual Private Pass             NaN           2918   \n",
      "\n",
      "            Respondent Role Respondent type Complainant type  \\\n",
      "0  Ins Co - Licensed/Active    Organization             INDV   \n",
      "1  Ins Co - Licensed/Active    Organization              ORG   \n",
      "2  Ins Co - Licensed/Active    Organization              ORG   \n",
      "3  Ins Co - Licensed/Active    Organization              ORG   \n",
      "4  Ins Co - Licensed/Active    Organization             INDV   \n",
      "\n",
      "                                            Keywords  \n",
      "0                                                NaN  \n",
      "1                                                NaN  \n",
      "2                                                NaN  \n",
      "3                                                NaN  \n",
      "4  2012 NORTH TEXAS TORNADOES; ADJUSTER'S HANDLIN...  \n"
     ]
    }
   ],
   "source": [
    "x = df.drop(columns=['How resolved'])\n",
    "print(x.head())"
   ]
  },
  {
   "cell_type": "code",
   "execution_count": 23,
   "metadata": {},
   "outputs": [
    {
     "name": "stdout",
     "output_type": "stream",
     "text": [
      "0                                              Other\n",
      "1                              Information Furnished\n",
      "2                                              Other\n",
      "3                                              Other\n",
      "4    Question of Fact; Contract Language/Legal Issue\n",
      "Name: How resolved, dtype: object\n"
     ]
    }
   ],
   "source": [
    "y = df['How resolved']\n",
    "print(y.head())"
   ]
  },
  {
   "cell_type": "code",
   "execution_count": 24,
   "metadata": {},
   "outputs": [
    {
     "name": "stdout",
     "output_type": "stream",
     "text": [
      "   Complaint number                            Complaint filed against  \\\n",
      "0                 1                METROPOLITAN LIFE INSURANCE COMPANY   \n",
      "1                 2                       AETNA LIFE INSURANCE COMPANY   \n",
      "2                 3  BLUE CROSS AND BLUE SHIELD OF TEXAS, A DIVISIO...   \n",
      "3                 4  BLUE CROSS AND BLUE SHIELD OF TEXAS, A DIVISIO...   \n",
      "4                 5            CHARTER OAK FIRE INSURANCE COMPANY, THE   \n",
      "\n",
      "  Complaint filed by       Reason complaint filed Confirmed complaint  \\\n",
      "0           Relative  cust service claim handling                  No   \n",
      "1           Provider     delays (claims handling)                  No   \n",
      "2           Provider              denial of claim                  No   \n",
      "3           Provider              denial of claim                  No   \n",
      "4            Insured  unsatisfactory settle/offer                  No   \n",
      "\n",
      "                                      How resolved Received date Closed date  \\\n",
      "0                                            other    2012-06-12  2012-07-25   \n",
      "1                            information furnished    2012-06-21  2012-08-01   \n",
      "2                                            other    2012-06-11  2012-07-30   \n",
      "3                                            other    2012-06-28  2012-07-30   \n",
      "4  question of fact; contract language/legal issue    2012-06-13  2012-07-17   \n",
      "\n",
      "  Others involved  Respondent ID  ...  \\\n",
      "0            None          13191  ...   \n",
      "1         Insured            245  ...   \n",
      "2            None          10047  ...   \n",
      "3            None          10047  ...   \n",
      "4            None           2918  ...   \n",
      "\n",
      "  Coverage level_Workers' Compensation Ntwk Coverage level_XX-Builder's Risk  \\\n",
      "0                                     False                            False   \n",
      "1                                     False                            False   \n",
      "2                                     False                            False   \n",
      "3                                     False                            False   \n",
      "4                                     False                            False   \n",
      "\n",
      "  Coverage level_XX-Commercial  Coverage level_XX-Commercial Multi-Peril  \\\n",
      "0                        False                                     False   \n",
      "1                        False                                     False   \n",
      "2                        False                                     False   \n",
      "3                        False                                     False   \n",
      "4                        False                                     False   \n",
      "\n",
      "   Coverage level_XX-Dwelling Fire  Coverage level_XX-General  \\\n",
      "0                            False                      False   \n",
      "1                            False                      False   \n",
      "2                            False                      False   \n",
      "3                            False                      False   \n",
      "4                            False                      False   \n",
      "\n",
      "   Coverage level_XX-Private Passenger Group  \\\n",
      "0                                      False   \n",
      "1                                      False   \n",
      "2                                      False   \n",
      "3                                      False   \n",
      "4                                      False   \n",
      "\n",
      "   Coverage level_XX-State Specific  Complainant type_INDV  \\\n",
      "0                             False                   True   \n",
      "1                             False                  False   \n",
      "2                             False                  False   \n",
      "3                             False                  False   \n",
      "4                             False                   True   \n",
      "\n",
      "   Complainant type_ORG  \n",
      "0                 False  \n",
      "1                  True  \n",
      "2                  True  \n",
      "3                  True  \n",
      "4                 False  \n",
      "\n",
      "[5 rows x 108 columns]\n"
     ]
    }
   ],
   "source": [
    "# Handle missing values\n",
    "df.fillna({'Keywords': 'Unknown', 'Others involved': 'None'}, inplace=True)\n",
    "df.dropna(subset=['Complaint filed against', 'Reason complaint filed', 'How resolved'], inplace=True)\n",
    "\n",
    "# Convert data types\n",
    "df['Received date'] = pd.to_datetime(df['Received date'])\n",
    "df['Closed date'] = pd.to_datetime(df['Closed date'])\n",
    "\n",
    "# Normalize text data\n",
    "df['Complaint filed against'] = df['Complaint filed against'].str.upper()\n",
    "df['Reason complaint filed'] = df['Reason complaint filed'].str.lower()\n",
    "df['How resolved'] = df['How resolved'].str.lower()\n",
    "\n",
    "# Feature engineering: Create a new feature for the duration of the complaint\n",
    "df['Complaint duration'] = (df['Closed date'] - df['Received date']).dt.days\n",
    "\n",
    "# Remove duplicates\n",
    "df.drop_duplicates(inplace=True)\n",
    "\n",
    "# Encode categorical variables\n",
    "df = pd.get_dummies(df, columns=['Complaint type', 'Coverage type', 'Coverage level', 'Complainant type'])\n",
    "\n",
    "print(df.head())"
   ]
  },
  {
   "cell_type": "code",
   "execution_count": 26,
   "metadata": {},
   "outputs": [
    {
     "name": "stdout",
     "output_type": "stream",
     "text": [
      "       Complaint number                  Received date  \\\n",
      "count     257186.000000                         257186   \n",
      "mean      200623.872765  2018-03-22 00:28:11.812151808   \n",
      "min            1.000000            2011-04-28 00:00:00   \n",
      "25%        98874.250000            2015-06-09 00:00:00   \n",
      "50%       198667.500000            2017-12-12 00:00:00   \n",
      "75%       306854.750000            2021-02-10 00:00:00   \n",
      "max       407369.000000            2024-10-18 00:00:00   \n",
      "std       117185.542540                            NaN   \n",
      "\n",
      "                         Closed date  Respondent ID  Complaint duration  \n",
      "count                         257186   2.571860e+05       257186.000000  \n",
      "mean   2018-07-03 04:43:48.646971392   4.913579e+04          103.177510  \n",
      "min              2012-05-21 00:00:00   5.200000e+01            0.000000  \n",
      "25%              2015-09-01 00:00:00   1.348000e+03           35.000000  \n",
      "50%              2018-07-31 00:00:00   2.737000e+03           70.000000  \n",
      "75%              2021-03-10 00:00:00   1.019800e+04          119.000000  \n",
      "max              2024-10-18 00:00:00   2.971445e+06         1067.000000  \n",
      "std                              NaN   2.233060e+05          111.432513  \n"
     ]
    }
   ],
   "source": [
    "print(df.describe())"
   ]
  },
  {
   "cell_type": "markdown",
   "metadata": {},
   "source": [
    "# Loading the Data"
   ]
  },
  {
   "cell_type": "code",
   "execution_count": 2,
   "metadata": {},
   "outputs": [],
   "source": [
    "# import required libraries\n",
    "import pandas as pd\n",
    "from sodapy import Socrata\n",
    "import numpy as np"
   ]
  },
  {
   "cell_type": "code",
   "execution_count": 3,
   "metadata": {},
   "outputs": [],
   "source": [
    "df = pd.read_csv('Insurance_complaints__All_data_20241020.csv')"
   ]
  },
  {
   "cell_type": "code",
   "execution_count": 4,
   "metadata": {},
   "outputs": [
    {
     "name": "stdout",
     "output_type": "stream",
     "text": [
      "<class 'pandas.core.frame.DataFrame'>\n",
      "RangeIndex: 258228 entries, 0 to 258227\n",
      "Data columns (total 17 columns):\n",
      " #   Column                   Non-Null Count   Dtype \n",
      "---  ------                   --------------   ----- \n",
      " 0   Complaint number         258228 non-null  int64 \n",
      " 1   Complaint filed against  258224 non-null  object\n",
      " 2   Complaint filed by       258228 non-null  object\n",
      " 3   Reason complaint filed   258222 non-null  object\n",
      " 4   Confirmed complaint      258223 non-null  object\n",
      " 5   How resolved             257191 non-null  object\n",
      " 6   Received date            258228 non-null  object\n",
      " 7   Closed date              258228 non-null  object\n",
      " 8   Complaint type           258227 non-null  object\n",
      " 9   Coverage type            258228 non-null  object\n",
      " 10  Coverage level           258228 non-null  object\n",
      " 11  Others involved          229881 non-null  object\n",
      " 12  Respondent ID            258228 non-null  int64 \n",
      " 13  Respondent Role          258226 non-null  object\n",
      " 14  Respondent type          258228 non-null  object\n",
      " 15  Complainant type         258228 non-null  object\n",
      " 16  Keywords                 205438 non-null  object\n",
      "dtypes: int64(2), object(15)\n",
      "memory usage: 33.5+ MB\n",
      "None\n"
     ]
    }
   ],
   "source": [
    "print(df.info())"
   ]
  },
  {
   "cell_type": "code",
   "execution_count": 5,
   "metadata": {},
   "outputs": [],
   "source": [
    "# drop columns with more than 50% missing values\n",
    "df = df.dropna(thresh=0.5*len(df), axis=1)"
   ]
  },
  {
   "cell_type": "code",
   "execution_count": 6,
   "metadata": {},
   "outputs": [
    {
     "name": "stdout",
     "output_type": "stream",
     "text": [
      "<class 'pandas.core.frame.DataFrame'>\n",
      "RangeIndex: 258228 entries, 0 to 258227\n",
      "Data columns (total 17 columns):\n",
      " #   Column                   Non-Null Count   Dtype \n",
      "---  ------                   --------------   ----- \n",
      " 0   Complaint number         258228 non-null  int64 \n",
      " 1   Complaint filed against  258224 non-null  object\n",
      " 2   Complaint filed by       258228 non-null  object\n",
      " 3   Reason complaint filed   258222 non-null  object\n",
      " 4   Confirmed complaint      258223 non-null  object\n",
      " 5   How resolved             257191 non-null  object\n",
      " 6   Received date            258228 non-null  object\n",
      " 7   Closed date              258228 non-null  object\n",
      " 8   Complaint type           258227 non-null  object\n",
      " 9   Coverage type            258228 non-null  object\n",
      " 10  Coverage level           258228 non-null  object\n",
      " 11  Others involved          229881 non-null  object\n",
      " 12  Respondent ID            258228 non-null  int64 \n",
      " 13  Respondent Role          258226 non-null  object\n",
      " 14  Respondent type          258228 non-null  object\n",
      " 15  Complainant type         258228 non-null  object\n",
      " 16  Keywords                 205438 non-null  object\n",
      "dtypes: int64(2), object(15)\n",
      "memory usage: 33.5+ MB\n"
     ]
    }
   ],
   "source": [
    "df.info()"
   ]
  },
  {
   "cell_type": "code",
   "execution_count": 7,
   "metadata": {},
   "outputs": [
    {
     "name": "stderr",
     "output_type": "stream",
     "text": [
      "WARNING:root:Requests made without an app_token will be subject to strict throttling limits.\n"
     ]
    }
   ],
   "source": [
    "\n",
    "\n",
    "import pandas as pd\n",
    "from sodapy import Socrata\n",
    "\n",
    "client = Socrata(\"data.texas.gov\", None)\n",
    "\n",
    "results = client.get(\"ubdr-4uff\", limit=2000)\n",
    "\n",
    "# Convert to pandas DataFrame\n",
    "results_df = pd.DataFrame.from_records(results)"
   ]
  },
  {
   "cell_type": "code",
   "execution_count": 9,
   "metadata": {},
   "outputs": [
    {
     "name": "stdout",
     "output_type": "stream",
     "text": [
      "<class 'pandas.core.frame.DataFrame'>\n",
      "RangeIndex: 2000 entries, 0 to 1999\n",
      "Data columns (total 17 columns):\n",
      " #   Column                    Non-Null Count  Dtype \n",
      "---  ------                    --------------  ----- \n",
      " 0   complaint_number          2000 non-null   object\n",
      " 1   respondent_name           2000 non-null   object\n",
      " 2   complainant_role          2000 non-null   object\n",
      " 3   reason                    2000 non-null   object\n",
      " 4   complaint_confirmed_code  2000 non-null   object\n",
      " 5   disposition               1948 non-null   object\n",
      " 6   received_date             2000 non-null   object\n",
      " 7   closed_date               2000 non-null   object\n",
      " 8   complaint_type            2000 non-null   object\n",
      " 9   coverage_type             2000 non-null   object\n",
      " 10  coverage_level            2000 non-null   object\n",
      " 11  respondent_id             2000 non-null   object\n",
      " 12  respondent_role           2000 non-null   object\n",
      " 13  respondent_type           2000 non-null   object\n",
      " 14  complainant_type          2000 non-null   object\n",
      " 15  involved_party_type       933 non-null    object\n",
      " 16  keyword                   895 non-null    object\n",
      "dtypes: object(17)\n",
      "memory usage: 265.8+ KB\n"
     ]
    }
   ],
   "source": [
    "results_df.info()"
   ]
  },
  {
   "cell_type": "code",
   "execution_count": 10,
   "metadata": {},
   "outputs": [],
   "source": [
    "# Drop missing rows in disposition column\n",
    "results_df.dropna(subset=['disposition'], inplace=True)"
   ]
  },
  {
   "cell_type": "code",
   "execution_count": 13,
   "metadata": {},
   "outputs": [
    {
     "name": "stdout",
     "output_type": "stream",
     "text": [
      "<class 'pandas.core.frame.DataFrame'>\n",
      "Index: 1948 entries, 0 to 1999\n",
      "Data columns (total 17 columns):\n",
      " #   Column                    Non-Null Count  Dtype \n",
      "---  ------                    --------------  ----- \n",
      " 0   complaint_number          1948 non-null   object\n",
      " 1   respondent_name           1948 non-null   object\n",
      " 2   complainant_role          1948 non-null   object\n",
      " 3   reason                    1948 non-null   object\n",
      " 4   complaint_confirmed_code  1948 non-null   object\n",
      " 5   disposition               1948 non-null   object\n",
      " 6   received_date             1948 non-null   object\n",
      " 7   closed_date               1948 non-null   object\n",
      " 8   complaint_type            1948 non-null   object\n",
      " 9   coverage_type             1948 non-null   object\n",
      " 10  coverage_level            1948 non-null   object\n",
      " 11  respondent_id             1948 non-null   object\n",
      " 12  respondent_role           1948 non-null   object\n",
      " 13  respondent_type           1948 non-null   object\n",
      " 14  complainant_type          1948 non-null   object\n",
      " 15  involved_party_type       908 non-null    object\n",
      " 16  keyword                   877 non-null    object\n",
      "dtypes: object(17)\n",
      "memory usage: 273.9+ KB\n",
      "None\n"
     ]
    }
   ],
   "source": [
    "print(results_df.info())"
   ]
  },
  {
   "cell_type": "code",
   "execution_count": null,
   "metadata": {},
   "outputs": [],
   "source": [
    "# drop Unnecessary columns\n",
    "results_df.drop(columns=['complaint_number', 'respondent_id', "
   ]
  },
  {
   "cell_type": "code",
   "execution_count": 15,
   "metadata": {},
   "outputs": [
    {
     "data": {
      "text/plain": [
       "Index(['complaint_number', 'respondent_name', 'complainant_role', 'reason',\n",
       "       'complaint_confirmed_code', 'disposition', 'received_date',\n",
       "       'closed_date', 'complaint_type', 'coverage_type', 'coverage_level',\n",
       "       'respondent_id', 'respondent_role', 'respondent_type',\n",
       "       'complainant_type', 'involved_party_type', 'keyword'],\n",
       "      dtype='object')"
      ]
     },
     "execution_count": 15,
     "metadata": {},
     "output_type": "execute_result"
    }
   ],
   "source": [
    "\n"
   ]
  },
  {
   "cell_type": "code",
   "execution_count": null,
   "metadata": {},
   "outputs": [],
   "source": []
  },
  {
   "cell_type": "code",
   "execution_count": null,
   "metadata": {},
   "outputs": [],
   "source": []
  },
  {
   "cell_type": "code",
   "execution_count": null,
   "metadata": {},
   "outputs": [],
   "source": []
  },
  {
   "cell_type": "code",
   "execution_count": null,
   "metadata": {},
   "outputs": [],
   "source": []
  }
 ],
 "metadata": {
  "kernelspec": {
   "display_name": "ads",
   "language": "python",
   "name": "python3"
  },
  "language_info": {
   "codemirror_mode": {
    "name": "ipython",
    "version": 3
   },
   "file_extension": ".py",
   "mimetype": "text/x-python",
   "name": "python",
   "nbconvert_exporter": "python",
   "pygments_lexer": "ipython3",
   "version": "3.12.5"
  }
 },
 "nbformat": 4,
 "nbformat_minor": 2
}
