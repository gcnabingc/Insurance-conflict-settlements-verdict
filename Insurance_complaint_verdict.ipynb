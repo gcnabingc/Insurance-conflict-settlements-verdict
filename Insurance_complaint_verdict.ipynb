{
 "cells": [
  {
   "cell_type": "markdown",
   "metadata": {},
   "source": [
    "## REad the data"
   ]
  },
  {
   "cell_type": "code",
   "execution_count": 81,
   "metadata": {},
   "outputs": [],
   "source": [
    "import pandas as pd\n",
    "from sodapy import Socrata\n",
    "import numpy as np"
   ]
  },
  {
   "cell_type": "code",
   "execution_count": 82,
   "metadata": {},
   "outputs": [
    {
     "name": "stderr",
     "output_type": "stream",
     "text": [
      "WARNING:root:Requests made without an app_token will be subject to strict throttling limits.\n"
     ]
    }
   ],
   "source": [
    "\n",
    "import pandas as pd\n",
    "from sodapy import Socrata\n",
    "\n",
    "client = Socrata(\"data.texas.gov\", None)\n",
    "\n",
    "results = client.get(\"ubdr-4uff\", limit=300000)\n",
    "\n",
    "# Convert to pandas DataFrame\n",
    "df1 = pd.DataFrame.from_records(results)"
   ]
  },
  {
   "cell_type": "code",
   "execution_count": 83,
   "metadata": {},
   "outputs": [],
   "source": [
    "df = df1"
   ]
  },
  {
   "cell_type": "code",
   "execution_count": 84,
   "metadata": {},
   "outputs": [
    {
     "name": "stdout",
     "output_type": "stream",
     "text": [
      "<class 'pandas.core.frame.DataFrame'>\n",
      "RangeIndex: 259452 entries, 0 to 259451\n",
      "Data columns (total 17 columns):\n",
      " #   Column                    Non-Null Count   Dtype \n",
      "---  ------                    --------------   ----- \n",
      " 0   complaint_number          259452 non-null  object\n",
      " 1   respondent_name           259452 non-null  object\n",
      " 2   complainant_role          259452 non-null  object\n",
      " 3   reason                    259446 non-null  object\n",
      " 4   complaint_confirmed_code  259447 non-null  object\n",
      " 5   disposition               258414 non-null  object\n",
      " 6   received_date             259452 non-null  object\n",
      " 7   closed_date               259452 non-null  object\n",
      " 8   complaint_type            259451 non-null  object\n",
      " 9   coverage_type             259452 non-null  object\n",
      " 10  coverage_level            259452 non-null  object\n",
      " 11  respondent_id             259452 non-null  object\n",
      " 12  respondent_role           259450 non-null  object\n",
      " 13  respondent_type           259452 non-null  object\n",
      " 14  complainant_type          259452 non-null  object\n",
      " 15  involved_party_type       231085 non-null  object\n",
      " 16  keyword                   206291 non-null  object\n",
      "dtypes: object(17)\n",
      "memory usage: 33.7+ MB\n"
     ]
    }
   ],
   "source": [
    "df.info()"
   ]
  },
  {
   "cell_type": "code",
   "execution_count": 85,
   "metadata": {},
   "outputs": [],
   "source": [
    "# Drop missing rows in disposition coluMN\n",
    "df = df.dropna(subset=['disposition'])"
   ]
  },
  {
   "cell_type": "code",
   "execution_count": null,
   "metadata": {},
   "outputs": [
    {
     "name": "stdout",
     "output_type": "stream",
     "text": [
      "disposition\n",
      "Contract Language/Legal Issue                                        25698\n",
      "No Jurisdiction                                                      23533\n",
      "Information Furnished                                                17925\n",
      "Question of Fact                                                     12215\n",
      "Information Furnished; Contract Language/Legal Issue                  8085\n",
      "                                                                     ...  \n",
      "Referred To; Question of Fact; Company Position Upheld                   1\n",
      "Agent Resp Recvd; Policy Issued/Restored; Corrective Action Taken        1\n",
      "Referred To; Record Only; Insufficient Information                       1\n",
      "Information Furnished; Referred To; Claim Settled                        1\n",
      "Premium Refunded; Claim Settled; Corrective Action Taken                 1\n",
      "Name: count, Length: 4068, dtype: int64\n"
     ]
    }
   ],
   "source": [
    "\n",
    "# get counts of disposition values in descending order\n",
    "disposition_counts = df['disposition'].value_counts().sort_values(ascending=False)\n",
    "print(disposition_counts)\n"
   ]
  },
  {
   "cell_type": "markdown",
   "metadata": {},
   "source": [
    "### Disposition column"
   ]
  },
  {
   "cell_type": "code",
   "execution_count": null,
   "metadata": {},
   "outputs": [
    {
     "name": "stderr",
     "output_type": "stream",
     "text": [
      "C:\\Users\\nbngc\\AppData\\Local\\Temp\\ipykernel_68392\\3181898158.py:15: SettingWithCopyWarning: \n",
      "A value is trying to be set on a copy of a slice from a DataFrame.\n",
      "Try using .loc[row_indexer,col_indexer] = value instead\n",
      "\n",
      "See the caveats in the documentation: https://pandas.pydata.org/pandas-docs/stable/user_guide/indexing.html#returning-a-view-versus-a-copy\n",
      "  df['verdict_passed'] = df['disposition'].apply(categorize_verdict)\n"
     ]
    }
   ],
   "source": [
    "\n",
    "\n",
    "# Define keywords for categorizing dispositions as 'verdict won' or 'verdict not won'\n",
    "verdict_won_keywords = [\"Claim Settled\", \"Additional Monies Received\"]\n",
    "verdict_not_won_keywords = [\"No Jurisdiction\", \"Company Position Upheld\", \"Insufficient Information\", \"Contract Language/Legal Issue\", \"Question of Fact\"]\n",
    "\n",
    "# Function to categorize each disposition based on the presence of keywords\n",
    "def categorize_verdict(disposition):\n",
    "    if any(keyword in disposition for keyword in verdict_won_keywords):\n",
    "        return \"Yes\"\n",
    "    elif any(keyword in disposition for keyword in verdict_not_won_keywords):\n",
    "        return \"No\"\n",
    "    else:\n",
    "        return \"Uncategorized\"  # For entries that don't match any keywords\n",
    "\n",
    "# Apply categorization to the disposition data\n",
    "df['verdict_passed'] = df['disposition'].apply(categorize_verdict)\n",
    "\n",
    "# Drop rows where the disposition was categorized as \"Uncategorized\"\n",
    "df = df[df['verdict_passed'] != \"Uncategorized\"]\n",
    "\n",
    "# replace disposition column with verdict_passed column and drop verdict_passed\n",
    "df['disposition'] = df['verdict_passed']\n",
    "df = df.drop(columns=['verdict_passed'])\n"
   ]
  },
  {
   "cell_type": "code",
   "execution_count": 88,
   "metadata": {},
   "outputs": [
    {
     "name": "stdout",
     "output_type": "stream",
     "text": [
      "<class 'pandas.core.frame.DataFrame'>\n",
      "Index: 206807 entries, 4 to 259450\n",
      "Data columns (total 17 columns):\n",
      " #   Column                    Non-Null Count   Dtype \n",
      "---  ------                    --------------   ----- \n",
      " 0   complaint_number          206807 non-null  object\n",
      " 1   respondent_name           206807 non-null  object\n",
      " 2   complainant_role          206807 non-null  object\n",
      " 3   reason                    206806 non-null  object\n",
      " 4   complaint_confirmed_code  206802 non-null  object\n",
      " 5   disposition               206807 non-null  object\n",
      " 6   received_date             206807 non-null  object\n",
      " 7   closed_date               206807 non-null  object\n",
      " 8   complaint_type            206806 non-null  object\n",
      " 9   coverage_type             206807 non-null  object\n",
      " 10  coverage_level            206807 non-null  object\n",
      " 11  respondent_id             206807 non-null  object\n",
      " 12  respondent_role           206807 non-null  object\n",
      " 13  respondent_type           206807 non-null  object\n",
      " 14  complainant_type          206807 non-null  object\n",
      " 15  involved_party_type       186364 non-null  object\n",
      " 16  keyword                   170157 non-null  object\n",
      "dtypes: object(17)\n",
      "memory usage: 28.4+ MB\n",
      "None\n"
     ]
    }
   ],
   "source": [
    "print(df.info())"
   ]
  },
  {
   "cell_type": "markdown",
   "metadata": {},
   "source": [
    "# Drop unnecessary columns"
   ]
  },
  {
   "cell_type": "code",
   "execution_count": 89,
   "metadata": {},
   "outputs": [],
   "source": [
    "# drop the columns\n",
    "# count of individual in column respondant type\n",
    "df['respondent_type'].value_counts()\n",
    "\n",
    "# drop columns keyword, respondent_id,complaint_number\n",
    "df = df.drop(columns=['keyword','respondent_id','complaint_number'])\n",
    " "
   ]
  },
  {
   "cell_type": "code",
   "execution_count": 90,
   "metadata": {},
   "outputs": [
    {
     "name": "stdout",
     "output_type": "stream",
     "text": [
      "<class 'pandas.core.frame.DataFrame'>\n",
      "Index: 206807 entries, 4 to 259450\n",
      "Data columns (total 14 columns):\n",
      " #   Column                    Non-Null Count   Dtype \n",
      "---  ------                    --------------   ----- \n",
      " 0   respondent_name           206807 non-null  object\n",
      " 1   complainant_role          206807 non-null  object\n",
      " 2   reason                    206806 non-null  object\n",
      " 3   complaint_confirmed_code  206802 non-null  object\n",
      " 4   disposition               206807 non-null  object\n",
      " 5   received_date             206807 non-null  object\n",
      " 6   closed_date               206807 non-null  object\n",
      " 7   complaint_type            206806 non-null  object\n",
      " 8   coverage_type             206807 non-null  object\n",
      " 9   coverage_level            206807 non-null  object\n",
      " 10  respondent_role           206807 non-null  object\n",
      " 11  respondent_type           206807 non-null  object\n",
      " 12  complainant_type          206807 non-null  object\n",
      " 13  involved_party_type       186364 non-null  object\n",
      "dtypes: object(14)\n",
      "memory usage: 23.7+ MB\n"
     ]
    }
   ],
   "source": [
    "df.info()"
   ]
  },
  {
   "cell_type": "code",
   "execution_count": 91,
   "metadata": {},
   "outputs": [],
   "source": [
    "# Trim whitespace from all columns with string data\n",
    "df = df.apply(lambda x: x.str.strip() if x.dtype == \"object\" else x)"
   ]
  },
  {
   "cell_type": "code",
   "execution_count": 92,
   "metadata": {},
   "outputs": [],
   "source": [
    "# Convert all columns to propercase if they are strings\n",
    "df = df.apply(lambda x: x.str.title() if x.dtype == \"object\" else x)"
   ]
  },
  {
   "cell_type": "code",
   "execution_count": 93,
   "metadata": {},
   "outputs": [
    {
     "name": "stdout",
     "output_type": "stream",
     "text": [
      "<class 'pandas.core.frame.DataFrame'>\n",
      "Index: 206807 entries, 4 to 259450\n",
      "Data columns (total 14 columns):\n",
      " #   Column                    Non-Null Count   Dtype \n",
      "---  ------                    --------------   ----- \n",
      " 0   respondent_name           206807 non-null  object\n",
      " 1   complainant_role          206807 non-null  object\n",
      " 2   reason                    206806 non-null  object\n",
      " 3   complaint_confirmed_code  206802 non-null  object\n",
      " 4   disposition               206807 non-null  object\n",
      " 5   received_date             206807 non-null  object\n",
      " 6   closed_date               206807 non-null  object\n",
      " 7   complaint_type            206806 non-null  object\n",
      " 8   coverage_type             206807 non-null  object\n",
      " 9   coverage_level            206807 non-null  object\n",
      " 10  respondent_role           206807 non-null  object\n",
      " 11  respondent_type           206807 non-null  object\n",
      " 12  complainant_type          206807 non-null  object\n",
      " 13  involved_party_type       186364 non-null  object\n",
      "dtypes: object(14)\n",
      "memory usage: 23.7+ MB\n"
     ]
    }
   ],
   "source": [
    "df.info()"
   ]
  },
  {
   "cell_type": "code",
   "execution_count": 94,
   "metadata": {},
   "outputs": [],
   "source": [
    "label_enco_cols = [\"respondent_name\", \"reason\", \"involved_party_type\"]\n",
    "one_enco_cols = [\"complainant_role\", \"complaint_confirmed_code\",\"complaint_type\",\"coverage_type\",\"coverage_level\",\"respondent_role\",\"respondent_type\", \"complainant_type\"]\n",
    "\n",
    "# Remove the text \", The\" from respondent_name column if ends in \", The\"\n",
    "df['respondent_name'] = df['respondent_name'].str.rstrip(', The')\n",
    "\n",
    "# for label_enco_cols do label encoding for one_enco_cols do one hot encoding\n",
    "from sklearn.preprocessing import LabelEncoder\n",
    "from sklearn.preprocessing import OneHotEncoder\n",
    "# Label Encoding\n",
    "for col in label_enco_cols:\n",
    "    le = LabelEncoder()\n",
    "    df[col] = le.fit_transform(df[col])\n",
    "\n",
    "# One Hot Encoding\n",
    "df = pd.get_dummies(df, columns=one_enco_cols, drop_first=True)\n"
   ]
  },
  {
   "cell_type": "code",
   "execution_count": 95,
   "metadata": {},
   "outputs": [],
   "source": [
    "# implement MCA on the data\n",
    "# from prince import MCA\n",
    "# mca = MCA(n_components=2)\n",
    "# mca.fit(df)\n",
    "# mca.plot_coordinates(df, figsize=(15, 15))\n"
   ]
  },
  {
   "cell_type": "code",
   "execution_count": 97,
   "metadata": {},
   "outputs": [
    {
     "data": {
      "text/html": [
       "<div>\n",
       "<style scoped>\n",
       "    .dataframe tbody tr th:only-of-type {\n",
       "        vertical-align: middle;\n",
       "    }\n",
       "\n",
       "    .dataframe tbody tr th {\n",
       "        vertical-align: top;\n",
       "    }\n",
       "\n",
       "    .dataframe thead th {\n",
       "        text-align: right;\n",
       "    }\n",
       "</style>\n",
       "<table border=\"1\" class=\"dataframe\">\n",
       "  <thead>\n",
       "    <tr style=\"text-align: right;\">\n",
       "      <th></th>\n",
       "      <th>respondent_name</th>\n",
       "      <th>reason</th>\n",
       "      <th>disposition</th>\n",
       "      <th>received_date</th>\n",
       "      <th>closed_date</th>\n",
       "      <th>involved_party_type</th>\n",
       "      <th>complainant_role_Attorney</th>\n",
       "      <th>complainant_role_Beneficiary</th>\n",
       "      <th>complainant_role_Consumer (Non-Insured)</th>\n",
       "      <th>complainant_role_Contracted Provider</th>\n",
       "      <th>...</th>\n",
       "      <th>respondent_role_Texas Fair Insurance Plan</th>\n",
       "      <th>respondent_role_Third Party Administrators</th>\n",
       "      <th>respondent_role_Twia</th>\n",
       "      <th>respondent_role_U.S. Domiciled Insurer</th>\n",
       "      <th>respondent_role_Unauthorized Activity</th>\n",
       "      <th>respondent_role_Utilization Review Agent</th>\n",
       "      <th>respondent_role_Viatical Settlement Com/Broker</th>\n",
       "      <th>respondent_role_Wc Healthcare Provider Ntwk</th>\n",
       "      <th>respondent_type_Organization</th>\n",
       "      <th>complainant_type_Org</th>\n",
       "    </tr>\n",
       "  </thead>\n",
       "  <tbody>\n",
       "    <tr>\n",
       "      <th>4</th>\n",
       "      <td>1754</td>\n",
       "      <td>6514</td>\n",
       "      <td>No</td>\n",
       "      <td>2012-06-13T00:00:00.000</td>\n",
       "      <td>2012-07-17T00:00:00.000</td>\n",
       "      <td>6117</td>\n",
       "      <td>False</td>\n",
       "      <td>False</td>\n",
       "      <td>False</td>\n",
       "      <td>False</td>\n",
       "      <td>...</td>\n",
       "      <td>False</td>\n",
       "      <td>False</td>\n",
       "      <td>False</td>\n",
       "      <td>False</td>\n",
       "      <td>False</td>\n",
       "      <td>False</td>\n",
       "      <td>False</td>\n",
       "      <td>False</td>\n",
       "      <td>True</td>\n",
       "      <td>False</td>\n",
       "    </tr>\n",
       "    <tr>\n",
       "      <th>5</th>\n",
       "      <td>7002</td>\n",
       "      <td>2469</td>\n",
       "      <td>No</td>\n",
       "      <td>2012-06-18T00:00:00.000</td>\n",
       "      <td>2012-07-30T00:00:00.000</td>\n",
       "      <td>6117</td>\n",
       "      <td>False</td>\n",
       "      <td>False</td>\n",
       "      <td>False</td>\n",
       "      <td>False</td>\n",
       "      <td>...</td>\n",
       "      <td>False</td>\n",
       "      <td>False</td>\n",
       "      <td>False</td>\n",
       "      <td>False</td>\n",
       "      <td>False</td>\n",
       "      <td>False</td>\n",
       "      <td>False</td>\n",
       "      <td>False</td>\n",
       "      <td>True</td>\n",
       "      <td>False</td>\n",
       "    </tr>\n",
       "    <tr>\n",
       "      <th>6</th>\n",
       "      <td>8949</td>\n",
       "      <td>6514</td>\n",
       "      <td>Yes</td>\n",
       "      <td>2012-02-27T00:00:00.000</td>\n",
       "      <td>2012-07-02T00:00:00.000</td>\n",
       "      <td>5453</td>\n",
       "      <td>False</td>\n",
       "      <td>False</td>\n",
       "      <td>False</td>\n",
       "      <td>False</td>\n",
       "      <td>...</td>\n",
       "      <td>False</td>\n",
       "      <td>False</td>\n",
       "      <td>False</td>\n",
       "      <td>False</td>\n",
       "      <td>False</td>\n",
       "      <td>False</td>\n",
       "      <td>False</td>\n",
       "      <td>False</td>\n",
       "      <td>True</td>\n",
       "      <td>False</td>\n",
       "    </tr>\n",
       "    <tr>\n",
       "      <th>7</th>\n",
       "      <td>1197</td>\n",
       "      <td>5121</td>\n",
       "      <td>No</td>\n",
       "      <td>2012-06-19T00:00:00.000</td>\n",
       "      <td>2012-08-06T00:00:00.000</td>\n",
       "      <td>6117</td>\n",
       "      <td>False</td>\n",
       "      <td>False</td>\n",
       "      <td>False</td>\n",
       "      <td>False</td>\n",
       "      <td>...</td>\n",
       "      <td>False</td>\n",
       "      <td>False</td>\n",
       "      <td>False</td>\n",
       "      <td>False</td>\n",
       "      <td>False</td>\n",
       "      <td>False</td>\n",
       "      <td>False</td>\n",
       "      <td>False</td>\n",
       "      <td>True</td>\n",
       "      <td>False</td>\n",
       "    </tr>\n",
       "    <tr>\n",
       "      <th>8</th>\n",
       "      <td>6816</td>\n",
       "      <td>6514</td>\n",
       "      <td>No</td>\n",
       "      <td>2011-10-03T00:00:00.000</td>\n",
       "      <td>2012-07-20T00:00:00.000</td>\n",
       "      <td>6117</td>\n",
       "      <td>False</td>\n",
       "      <td>False</td>\n",
       "      <td>False</td>\n",
       "      <td>False</td>\n",
       "      <td>...</td>\n",
       "      <td>False</td>\n",
       "      <td>False</td>\n",
       "      <td>False</td>\n",
       "      <td>False</td>\n",
       "      <td>False</td>\n",
       "      <td>False</td>\n",
       "      <td>False</td>\n",
       "      <td>False</td>\n",
       "      <td>True</td>\n",
       "      <td>False</td>\n",
       "    </tr>\n",
       "  </tbody>\n",
       "</table>\n",
       "<p>5 rows × 173 columns</p>\n",
       "</div>"
      ],
      "text/plain": [
       "   respondent_name  reason disposition            received_date  \\\n",
       "4             1754    6514          No  2012-06-13T00:00:00.000   \n",
       "5             7002    2469          No  2012-06-18T00:00:00.000   \n",
       "6             8949    6514         Yes  2012-02-27T00:00:00.000   \n",
       "7             1197    5121          No  2012-06-19T00:00:00.000   \n",
       "8             6816    6514          No  2011-10-03T00:00:00.000   \n",
       "\n",
       "               closed_date  involved_party_type  complainant_role_Attorney  \\\n",
       "4  2012-07-17T00:00:00.000                 6117                      False   \n",
       "5  2012-07-30T00:00:00.000                 6117                      False   \n",
       "6  2012-07-02T00:00:00.000                 5453                      False   \n",
       "7  2012-08-06T00:00:00.000                 6117                      False   \n",
       "8  2012-07-20T00:00:00.000                 6117                      False   \n",
       "\n",
       "   complainant_role_Beneficiary  complainant_role_Consumer (Non-Insured)  \\\n",
       "4                         False                                    False   \n",
       "5                         False                                    False   \n",
       "6                         False                                    False   \n",
       "7                         False                                    False   \n",
       "8                         False                                    False   \n",
       "\n",
       "   complainant_role_Contracted Provider  ...  \\\n",
       "4                                 False  ...   \n",
       "5                                 False  ...   \n",
       "6                                 False  ...   \n",
       "7                                 False  ...   \n",
       "8                                 False  ...   \n",
       "\n",
       "   respondent_role_Texas Fair Insurance Plan  \\\n",
       "4                                      False   \n",
       "5                                      False   \n",
       "6                                      False   \n",
       "7                                      False   \n",
       "8                                      False   \n",
       "\n",
       "   respondent_role_Third Party Administrators  respondent_role_Twia  \\\n",
       "4                                       False                 False   \n",
       "5                                       False                 False   \n",
       "6                                       False                 False   \n",
       "7                                       False                 False   \n",
       "8                                       False                 False   \n",
       "\n",
       "   respondent_role_U.S. Domiciled Insurer  \\\n",
       "4                                   False   \n",
       "5                                   False   \n",
       "6                                   False   \n",
       "7                                   False   \n",
       "8                                   False   \n",
       "\n",
       "   respondent_role_Unauthorized Activity  \\\n",
       "4                                  False   \n",
       "5                                  False   \n",
       "6                                  False   \n",
       "7                                  False   \n",
       "8                                  False   \n",
       "\n",
       "   respondent_role_Utilization Review Agent  \\\n",
       "4                                     False   \n",
       "5                                     False   \n",
       "6                                     False   \n",
       "7                                     False   \n",
       "8                                     False   \n",
       "\n",
       "   respondent_role_Viatical Settlement Com/Broker  \\\n",
       "4                                           False   \n",
       "5                                           False   \n",
       "6                                           False   \n",
       "7                                           False   \n",
       "8                                           False   \n",
       "\n",
       "   respondent_role_Wc Healthcare Provider Ntwk  respondent_type_Organization  \\\n",
       "4                                        False                          True   \n",
       "5                                        False                          True   \n",
       "6                                        False                          True   \n",
       "7                                        False                          True   \n",
       "8                                        False                          True   \n",
       "\n",
       "   complainant_type_Org  \n",
       "4                 False  \n",
       "5                 False  \n",
       "6                 False  \n",
       "7                 False  \n",
       "8                 False  \n",
       "\n",
       "[5 rows x 173 columns]"
      ]
     },
     "execution_count": 97,
     "metadata": {},
     "output_type": "execute_result"
    }
   ],
   "source": [
    "df.head()"
   ]
  },
  {
   "cell_type": "code",
   "execution_count": 98,
   "metadata": {},
   "outputs": [
    {
     "data": {
      "text/html": [
       "<div>\n",
       "<style scoped>\n",
       "    .dataframe tbody tr th:only-of-type {\n",
       "        vertical-align: middle;\n",
       "    }\n",
       "\n",
       "    .dataframe tbody tr th {\n",
       "        vertical-align: top;\n",
       "    }\n",
       "\n",
       "    .dataframe thead th {\n",
       "        text-align: right;\n",
       "    }\n",
       "</style>\n",
       "<table border=\"1\" class=\"dataframe\">\n",
       "  <thead>\n",
       "    <tr style=\"text-align: right;\">\n",
       "      <th></th>\n",
       "      <th>respondent_name</th>\n",
       "      <th>reason</th>\n",
       "      <th>involved_party_type</th>\n",
       "    </tr>\n",
       "  </thead>\n",
       "  <tbody>\n",
       "    <tr>\n",
       "      <th>count</th>\n",
       "      <td>206807.000000</td>\n",
       "      <td>206807.000000</td>\n",
       "      <td>206807.000000</td>\n",
       "    </tr>\n",
       "    <tr>\n",
       "      <th>mean</th>\n",
       "      <td>4476.191705</td>\n",
       "      <td>4468.123618</td>\n",
       "      <td>4341.552143</td>\n",
       "    </tr>\n",
       "    <tr>\n",
       "      <th>std</th>\n",
       "      <td>3165.615335</td>\n",
       "      <td>1558.953874</td>\n",
       "      <td>1634.898422</td>\n",
       "    </tr>\n",
       "    <tr>\n",
       "      <th>min</th>\n",
       "      <td>0.000000</td>\n",
       "      <td>0.000000</td>\n",
       "      <td>0.000000</td>\n",
       "    </tr>\n",
       "    <tr>\n",
       "      <th>25%</th>\n",
       "      <td>1197.000000</td>\n",
       "      <td>3539.000000</td>\n",
       "      <td>3168.000000</td>\n",
       "    </tr>\n",
       "    <tr>\n",
       "      <th>50%</th>\n",
       "      <td>4184.000000</td>\n",
       "      <td>4576.000000</td>\n",
       "      <td>4843.000000</td>\n",
       "    </tr>\n",
       "    <tr>\n",
       "      <th>75%</th>\n",
       "      <td>7909.000000</td>\n",
       "      <td>5538.000000</td>\n",
       "      <td>5963.000000</td>\n",
       "    </tr>\n",
       "    <tr>\n",
       "      <th>max</th>\n",
       "      <td>9589.000000</td>\n",
       "      <td>6537.000000</td>\n",
       "      <td>6117.000000</td>\n",
       "    </tr>\n",
       "  </tbody>\n",
       "</table>\n",
       "</div>"
      ],
      "text/plain": [
       "       respondent_name         reason  involved_party_type\n",
       "count    206807.000000  206807.000000        206807.000000\n",
       "mean       4476.191705    4468.123618          4341.552143\n",
       "std        3165.615335    1558.953874          1634.898422\n",
       "min           0.000000       0.000000             0.000000\n",
       "25%        1197.000000    3539.000000          3168.000000\n",
       "50%        4184.000000    4576.000000          4843.000000\n",
       "75%        7909.000000    5538.000000          5963.000000\n",
       "max        9589.000000    6537.000000          6117.000000"
      ]
     },
     "execution_count": 98,
     "metadata": {},
     "output_type": "execute_result"
    }
   ],
   "source": [
    "df.describe()"
   ]
  },
  {
   "cell_type": "code",
   "execution_count": null,
   "metadata": {},
   "outputs": [],
   "source": [
    "# write disposition counts to a csv file\n",
    "df.to_csv('df.csv')"
   ]
  },
  {
   "cell_type": "markdown",
   "metadata": {},
   "source": [
    "## Train Test Split"
   ]
  },
  {
   "cell_type": "code",
   "execution_count": null,
   "metadata": {},
   "outputs": [],
   "source": []
  },
  {
   "cell_type": "code",
   "execution_count": null,
   "metadata": {},
   "outputs": [],
   "source": []
  },
  {
   "cell_type": "code",
   "execution_count": null,
   "metadata": {},
   "outputs": [],
   "source": []
  },
  {
   "cell_type": "code",
   "execution_count": null,
   "metadata": {},
   "outputs": [],
   "source": []
  },
  {
   "cell_type": "code",
   "execution_count": null,
   "metadata": {},
   "outputs": [],
   "source": []
  }
 ],
 "metadata": {
  "kernelspec": {
   "display_name": "ads",
   "language": "python",
   "name": "python3"
  },
  "language_info": {
   "codemirror_mode": {
    "name": "ipython",
    "version": 3
   },
   "file_extension": ".py",
   "mimetype": "text/x-python",
   "name": "python",
   "nbconvert_exporter": "python",
   "pygments_lexer": "ipython3",
   "version": "3.12.5"
  }
 },
 "nbformat": 4,
 "nbformat_minor": 2
}
